{
 "cells": [
  {
   "cell_type": "code",
   "execution_count": 1,
   "metadata": {},
   "outputs": [],
   "source": [
    "import pandas as pd\n",
    "import numpy as np\n",
    "\n",
    "from sklearn.pipeline import Pipeline\n",
    "from sklearn.impute import SimpleImputer\n",
    "from sklearn.preprocessing import  OneHotEncoder, StandardScaler\n",
    "from sklearn.compose import ColumnTransformer\n",
    "from sklearn.cluster import KMeans, DBSCAN\n",
    "from sklearn.metrics import  silhouette_score\n",
    "from datetime import datetime\n",
    "\n",
    "import warnings\n",
    "warnings.filterwarnings(\"ignore\", category=DeprecationWarning) \n",
    "\n",
    "import matplotlib.pyplot as plt\n",
    "import plotly.express as px\n",
    "import plotly.io as pio\n",
    "import seaborn as sn\n",
    "pio.renderers.default = \"vscode\""
   ]
  },
  {
   "cell_type": "code",
   "execution_count": 2,
   "metadata": {},
   "outputs": [
    {
     "data": {
      "text/html": [
       "<div>\n",
       "<style scoped>\n",
       "    .dataframe tbody tr th:only-of-type {\n",
       "        vertical-align: middle;\n",
       "    }\n",
       "\n",
       "    .dataframe tbody tr th {\n",
       "        vertical-align: top;\n",
       "    }\n",
       "\n",
       "    .dataframe thead th {\n",
       "        text-align: right;\n",
       "    }\n",
       "</style>\n",
       "<table border=\"1\" class=\"dataframe\">\n",
       "  <thead>\n",
       "    <tr style=\"text-align: right;\">\n",
       "      <th></th>\n",
       "      <th>Date/Time</th>\n",
       "      <th>Lat</th>\n",
       "      <th>Lon</th>\n",
       "      <th>Base</th>\n",
       "    </tr>\n",
       "  </thead>\n",
       "  <tbody>\n",
       "    <tr>\n",
       "      <th>0</th>\n",
       "      <td>4/1/2014 0:11:00</td>\n",
       "      <td>40.7690</td>\n",
       "      <td>-73.9549</td>\n",
       "      <td>B02512</td>\n",
       "    </tr>\n",
       "    <tr>\n",
       "      <th>1</th>\n",
       "      <td>4/1/2014 0:17:00</td>\n",
       "      <td>40.7267</td>\n",
       "      <td>-74.0345</td>\n",
       "      <td>B02512</td>\n",
       "    </tr>\n",
       "    <tr>\n",
       "      <th>2</th>\n",
       "      <td>4/1/2014 0:21:00</td>\n",
       "      <td>40.7316</td>\n",
       "      <td>-73.9873</td>\n",
       "      <td>B02512</td>\n",
       "    </tr>\n",
       "    <tr>\n",
       "      <th>3</th>\n",
       "      <td>4/1/2014 0:28:00</td>\n",
       "      <td>40.7588</td>\n",
       "      <td>-73.9776</td>\n",
       "      <td>B02512</td>\n",
       "    </tr>\n",
       "    <tr>\n",
       "      <th>4</th>\n",
       "      <td>4/1/2014 0:33:00</td>\n",
       "      <td>40.7594</td>\n",
       "      <td>-73.9722</td>\n",
       "      <td>B02512</td>\n",
       "    </tr>\n",
       "  </tbody>\n",
       "</table>\n",
       "</div>"
      ],
      "text/plain": [
       "          Date/Time      Lat      Lon    Base\n",
       "0  4/1/2014 0:11:00  40.7690 -73.9549  B02512\n",
       "1  4/1/2014 0:17:00  40.7267 -74.0345  B02512\n",
       "2  4/1/2014 0:21:00  40.7316 -73.9873  B02512\n",
       "3  4/1/2014 0:28:00  40.7588 -73.9776  B02512\n",
       "4  4/1/2014 0:33:00  40.7594 -73.9722  B02512"
      ]
     },
     "execution_count": 2,
     "metadata": {},
     "output_type": "execute_result"
    }
   ],
   "source": [
    "#### uber-raw-data-apr14\n",
    "data_01 = pd.read_csv(\"uber-raw-data-apr14.csv\")\n",
    "data_01.head()"
   ]
  },
  {
   "cell_type": "code",
   "execution_count": 3,
   "metadata": {},
   "outputs": [],
   "source": [
    "# Convertir la chaîne de caractères en objet datetime\n",
    "data_01['Date/Time'] = pd.to_datetime(data_01['Date/Time'])\n",
    "\n",
    "# Extraire l'année, le mois, le jour et le jour de la semaine\n",
    "data_01['Date'] = data_01['Date/Time'].dt.date\n",
    "data_01['Heure'] = data_01['Date/Time'].dt.time"
   ]
  },
  {
   "cell_type": "code",
   "execution_count": 4,
   "metadata": {},
   "outputs": [
    {
     "data": {
      "text/html": [
       "<div>\n",
       "<style scoped>\n",
       "    .dataframe tbody tr th:only-of-type {\n",
       "        vertical-align: middle;\n",
       "    }\n",
       "\n",
       "    .dataframe tbody tr th {\n",
       "        vertical-align: top;\n",
       "    }\n",
       "\n",
       "    .dataframe thead th {\n",
       "        text-align: right;\n",
       "    }\n",
       "</style>\n",
       "<table border=\"1\" class=\"dataframe\">\n",
       "  <thead>\n",
       "    <tr style=\"text-align: right;\">\n",
       "      <th></th>\n",
       "      <th>Lat</th>\n",
       "      <th>Lon</th>\n",
       "      <th>Base</th>\n",
       "      <th>Date</th>\n",
       "      <th>Heure</th>\n",
       "    </tr>\n",
       "  </thead>\n",
       "  <tbody>\n",
       "    <tr>\n",
       "      <th>0</th>\n",
       "      <td>40.7690</td>\n",
       "      <td>-73.9549</td>\n",
       "      <td>B02512</td>\n",
       "      <td>2014-04-01</td>\n",
       "      <td>00:11:00</td>\n",
       "    </tr>\n",
       "    <tr>\n",
       "      <th>1</th>\n",
       "      <td>40.7267</td>\n",
       "      <td>-74.0345</td>\n",
       "      <td>B02512</td>\n",
       "      <td>2014-04-01</td>\n",
       "      <td>00:17:00</td>\n",
       "    </tr>\n",
       "    <tr>\n",
       "      <th>2</th>\n",
       "      <td>40.7316</td>\n",
       "      <td>-73.9873</td>\n",
       "      <td>B02512</td>\n",
       "      <td>2014-04-01</td>\n",
       "      <td>00:21:00</td>\n",
       "    </tr>\n",
       "    <tr>\n",
       "      <th>3</th>\n",
       "      <td>40.7588</td>\n",
       "      <td>-73.9776</td>\n",
       "      <td>B02512</td>\n",
       "      <td>2014-04-01</td>\n",
       "      <td>00:28:00</td>\n",
       "    </tr>\n",
       "    <tr>\n",
       "      <th>4</th>\n",
       "      <td>40.7594</td>\n",
       "      <td>-73.9722</td>\n",
       "      <td>B02512</td>\n",
       "      <td>2014-04-01</td>\n",
       "      <td>00:33:00</td>\n",
       "    </tr>\n",
       "  </tbody>\n",
       "</table>\n",
       "</div>"
      ],
      "text/plain": [
       "       Lat      Lon    Base        Date     Heure\n",
       "0  40.7690 -73.9549  B02512  2014-04-01  00:11:00\n",
       "1  40.7267 -74.0345  B02512  2014-04-01  00:17:00\n",
       "2  40.7316 -73.9873  B02512  2014-04-01  00:21:00\n",
       "3  40.7588 -73.9776  B02512  2014-04-01  00:28:00\n",
       "4  40.7594 -73.9722  B02512  2014-04-01  00:33:00"
      ]
     },
     "execution_count": 4,
     "metadata": {},
     "output_type": "execute_result"
    }
   ],
   "source": [
    "# Drop la colonne Date\n",
    "data_01 = data_01.drop(columns = ['Date/Time'])\n",
    "data_01.head()"
   ]
  },
  {
   "cell_type": "code",
   "execution_count": 5,
   "metadata": {},
   "outputs": [
    {
     "data": {
      "text/plain": [
       "Date\n",
       "2014-04-01    14546\n",
       "2014-04-02    17474\n",
       "2014-04-03    20701\n",
       "2014-04-04    26714\n",
       "2014-04-05    19521\n",
       "2014-04-06    13445\n",
       "2014-04-07    19550\n",
       "2014-04-08    16188\n",
       "2014-04-09    16843\n",
       "2014-04-10    20041\n",
       "2014-04-11    20420\n",
       "2014-04-12    18170\n",
       "2014-04-13    12112\n",
       "2014-04-14    12674\n",
       "2014-04-15    20641\n",
       "2014-04-16    17717\n",
       "2014-04-17    20973\n",
       "2014-04-18    18074\n",
       "2014-04-19    14602\n",
       "2014-04-20    11017\n",
       "2014-04-21    13162\n",
       "2014-04-22    16975\n",
       "2014-04-23    20346\n",
       "2014-04-24    23352\n",
       "2014-04-25    25095\n",
       "2014-04-26    24925\n",
       "2014-04-27    14677\n",
       "2014-04-28    15475\n",
       "2014-04-29    22835\n",
       "2014-04-30    36251\n",
       "Name: count, dtype: int64"
      ]
     },
     "execution_count": 5,
     "metadata": {},
     "output_type": "execute_result"
    }
   ],
   "source": [
    "data_01_R = data_01[\"Date\"].value_counts()\n",
    "data_01_R.sort_index()"
   ]
  },
  {
   "cell_type": "code",
   "execution_count": 6,
   "metadata": {},
   "outputs": [
    {
     "name": "stdout",
     "output_type": "stream",
     "text": [
      "<class 'pandas.core.frame.DataFrame'>\n",
      "RangeIndex: 564516 entries, 0 to 564515\n",
      "Data columns (total 5 columns):\n",
      " #   Column  Non-Null Count   Dtype  \n",
      "---  ------  --------------   -----  \n",
      " 0   Lat     564516 non-null  float64\n",
      " 1   Lon     564516 non-null  float64\n",
      " 2   Base    564516 non-null  object \n",
      " 3   Date    564516 non-null  object \n",
      " 4   Heure   564516 non-null  object \n",
      "dtypes: float64(2), object(3)\n",
      "memory usage: 21.5+ MB\n"
     ]
    }
   ],
   "source": [
    "data_01.info()"
   ]
  },
  {
   "cell_type": "code",
   "execution_count": 7,
   "metadata": {},
   "outputs": [],
   "source": [
    "data_01['Date'] = pd.to_datetime(data_01['Date'])"
   ]
  },
  {
   "cell_type": "code",
   "execution_count": 8,
   "metadata": {},
   "outputs": [],
   "source": [
    "def assign_letter(day):\n",
    "    if day < datetime(2014, 4, 5):\n",
    "        return 'A'\n",
    "    elif day < datetime(2014, 4, 10):\n",
    "        return 'B'\n",
    "    elif day < datetime(2014, 4, 15):\n",
    "        return 'C'\n",
    "    elif day < datetime(2014, 4, 20):\n",
    "        return 'D'\n",
    "    elif day < datetime(2014, 4, 25):\n",
    "        return 'E'\n",
    "    elif day < datetime(2014, 4, 30):\n",
    "        return 'F'            \n",
    "    else:\n",
    "        return 'G'"
   ]
  },
  {
   "cell_type": "code",
   "execution_count": 9,
   "metadata": {},
   "outputs": [
    {
     "ename": "TypeError",
     "evalue": "'<' not supported between instances of 'int' and 'datetime.datetime'",
     "output_type": "error",
     "traceback": [
      "\u001b[1;31m---------------------------------------------------------------------------\u001b[0m",
      "\u001b[1;31mTypeError\u001b[0m                                 Traceback (most recent call last)",
      "Cell \u001b[1;32mIn[9], line 2\u001b[0m\n\u001b[0;32m      1\u001b[0m \u001b[38;5;66;03m# Ajout de la colonne \"Cat\" avec les lettres attribuées\u001b[39;00m\n\u001b[1;32m----> 2\u001b[0m data_01[\u001b[38;5;124m'\u001b[39m\u001b[38;5;124mCat_Day\u001b[39m\u001b[38;5;124m'\u001b[39m] \u001b[38;5;241m=\u001b[39m \u001b[43mdata_01\u001b[49m\u001b[43m[\u001b[49m\u001b[38;5;124;43m'\u001b[39;49m\u001b[38;5;124;43mDate\u001b[39;49m\u001b[38;5;124;43m'\u001b[39;49m\u001b[43m]\u001b[49m\u001b[38;5;241;43m.\u001b[39;49m\u001b[43mapply\u001b[49m\u001b[43m(\u001b[49m\u001b[38;5;28;43;01mlambda\u001b[39;49;00m\u001b[43m \u001b[49m\u001b[43mx\u001b[49m\u001b[43m:\u001b[49m\u001b[43m \u001b[49m\u001b[43massign_letter\u001b[49m\u001b[43m(\u001b[49m\u001b[43mx\u001b[49m\u001b[38;5;241;43m.\u001b[39;49m\u001b[43mday\u001b[49m\u001b[43m)\u001b[49m\u001b[43m)\u001b[49m\n",
      "File \u001b[1;32m~\\AppData\\Roaming\\Python\\Python38\\site-packages\\pandas\\core\\series.py:4630\u001b[0m, in \u001b[0;36mSeries.apply\u001b[1;34m(self, func, convert_dtype, args, **kwargs)\u001b[0m\n\u001b[0;32m   4520\u001b[0m \u001b[38;5;28;01mdef\u001b[39;00m \u001b[38;5;21mapply\u001b[39m(\n\u001b[0;32m   4521\u001b[0m     \u001b[38;5;28mself\u001b[39m,\n\u001b[0;32m   4522\u001b[0m     func: AggFuncType,\n\u001b[1;32m   (...)\u001b[0m\n\u001b[0;32m   4525\u001b[0m     \u001b[38;5;241m*\u001b[39m\u001b[38;5;241m*\u001b[39mkwargs,\n\u001b[0;32m   4526\u001b[0m ) \u001b[38;5;241m-\u001b[39m\u001b[38;5;241m>\u001b[39m DataFrame \u001b[38;5;241m|\u001b[39m Series:\n\u001b[0;32m   4527\u001b[0m \u001b[38;5;250m    \u001b[39m\u001b[38;5;124;03m\"\"\"\u001b[39;00m\n\u001b[0;32m   4528\u001b[0m \u001b[38;5;124;03m    Invoke function on values of Series.\u001b[39;00m\n\u001b[0;32m   4529\u001b[0m \n\u001b[1;32m   (...)\u001b[0m\n\u001b[0;32m   4628\u001b[0m \u001b[38;5;124;03m    dtype: float64\u001b[39;00m\n\u001b[0;32m   4629\u001b[0m \u001b[38;5;124;03m    \"\"\"\u001b[39;00m\n\u001b[1;32m-> 4630\u001b[0m     \u001b[38;5;28;01mreturn\u001b[39;00m \u001b[43mSeriesApply\u001b[49m\u001b[43m(\u001b[49m\u001b[38;5;28;43mself\u001b[39;49m\u001b[43m,\u001b[49m\u001b[43m \u001b[49m\u001b[43mfunc\u001b[49m\u001b[43m,\u001b[49m\u001b[43m \u001b[49m\u001b[43mconvert_dtype\u001b[49m\u001b[43m,\u001b[49m\u001b[43m \u001b[49m\u001b[43margs\u001b[49m\u001b[43m,\u001b[49m\u001b[43m \u001b[49m\u001b[43mkwargs\u001b[49m\u001b[43m)\u001b[49m\u001b[38;5;241;43m.\u001b[39;49m\u001b[43mapply\u001b[49m\u001b[43m(\u001b[49m\u001b[43m)\u001b[49m\n",
      "File \u001b[1;32m~\\AppData\\Roaming\\Python\\Python38\\site-packages\\pandas\\core\\apply.py:1025\u001b[0m, in \u001b[0;36mSeriesApply.apply\u001b[1;34m(self)\u001b[0m\n\u001b[0;32m   1022\u001b[0m     \u001b[38;5;28;01mreturn\u001b[39;00m \u001b[38;5;28mself\u001b[39m\u001b[38;5;241m.\u001b[39mapply_str()\n\u001b[0;32m   1024\u001b[0m \u001b[38;5;66;03m# self.f is Callable\u001b[39;00m\n\u001b[1;32m-> 1025\u001b[0m \u001b[38;5;28;01mreturn\u001b[39;00m \u001b[38;5;28;43mself\u001b[39;49m\u001b[38;5;241;43m.\u001b[39;49m\u001b[43mapply_standard\u001b[49m\u001b[43m(\u001b[49m\u001b[43m)\u001b[49m\n",
      "File \u001b[1;32m~\\AppData\\Roaming\\Python\\Python38\\site-packages\\pandas\\core\\apply.py:1076\u001b[0m, in \u001b[0;36mSeriesApply.apply_standard\u001b[1;34m(self)\u001b[0m\n\u001b[0;32m   1074\u001b[0m     \u001b[38;5;28;01melse\u001b[39;00m:\n\u001b[0;32m   1075\u001b[0m         values \u001b[38;5;241m=\u001b[39m obj\u001b[38;5;241m.\u001b[39mastype(\u001b[38;5;28mobject\u001b[39m)\u001b[38;5;241m.\u001b[39m_values\n\u001b[1;32m-> 1076\u001b[0m         mapped \u001b[38;5;241m=\u001b[39m \u001b[43mlib\u001b[49m\u001b[38;5;241;43m.\u001b[39;49m\u001b[43mmap_infer\u001b[49m\u001b[43m(\u001b[49m\n\u001b[0;32m   1077\u001b[0m \u001b[43m            \u001b[49m\u001b[43mvalues\u001b[49m\u001b[43m,\u001b[49m\n\u001b[0;32m   1078\u001b[0m \u001b[43m            \u001b[49m\u001b[43mf\u001b[49m\u001b[43m,\u001b[49m\n\u001b[0;32m   1079\u001b[0m \u001b[43m            \u001b[49m\u001b[43mconvert\u001b[49m\u001b[38;5;241;43m=\u001b[39;49m\u001b[38;5;28;43mself\u001b[39;49m\u001b[38;5;241;43m.\u001b[39;49m\u001b[43mconvert_dtype\u001b[49m\u001b[43m,\u001b[49m\n\u001b[0;32m   1080\u001b[0m \u001b[43m        \u001b[49m\u001b[43m)\u001b[49m\n\u001b[0;32m   1082\u001b[0m \u001b[38;5;28;01mif\u001b[39;00m \u001b[38;5;28mlen\u001b[39m(mapped) \u001b[38;5;129;01mand\u001b[39;00m \u001b[38;5;28misinstance\u001b[39m(mapped[\u001b[38;5;241m0\u001b[39m], ABCSeries):\n\u001b[0;32m   1083\u001b[0m     \u001b[38;5;66;03m# GH#43986 Need to do list(mapped) in order to get treated as nested\u001b[39;00m\n\u001b[0;32m   1084\u001b[0m     \u001b[38;5;66;03m#  See also GH#25959 regarding EA support\u001b[39;00m\n\u001b[0;32m   1085\u001b[0m     \u001b[38;5;28;01mreturn\u001b[39;00m obj\u001b[38;5;241m.\u001b[39m_constructor_expanddim(\u001b[38;5;28mlist\u001b[39m(mapped), index\u001b[38;5;241m=\u001b[39mobj\u001b[38;5;241m.\u001b[39mindex)\n",
      "File \u001b[1;32m~\\AppData\\Roaming\\Python\\Python38\\site-packages\\pandas\\_libs\\lib.pyx:2834\u001b[0m, in \u001b[0;36mpandas._libs.lib.map_infer\u001b[1;34m()\u001b[0m\n",
      "Cell \u001b[1;32mIn[9], line 2\u001b[0m, in \u001b[0;36m<lambda>\u001b[1;34m(x)\u001b[0m\n\u001b[0;32m      1\u001b[0m \u001b[38;5;66;03m# Ajout de la colonne \"Cat\" avec les lettres attribuées\u001b[39;00m\n\u001b[1;32m----> 2\u001b[0m data_01[\u001b[38;5;124m'\u001b[39m\u001b[38;5;124mCat_Day\u001b[39m\u001b[38;5;124m'\u001b[39m] \u001b[38;5;241m=\u001b[39m data_01[\u001b[38;5;124m'\u001b[39m\u001b[38;5;124mDate\u001b[39m\u001b[38;5;124m'\u001b[39m]\u001b[38;5;241m.\u001b[39mapply(\u001b[38;5;28;01mlambda\u001b[39;00m x: \u001b[43massign_letter\u001b[49m\u001b[43m(\u001b[49m\u001b[43mx\u001b[49m\u001b[38;5;241;43m.\u001b[39;49m\u001b[43mday\u001b[49m\u001b[43m)\u001b[49m)\n",
      "Cell \u001b[1;32mIn[8], line 2\u001b[0m, in \u001b[0;36massign_letter\u001b[1;34m(day)\u001b[0m\n\u001b[0;32m      1\u001b[0m \u001b[38;5;28;01mdef\u001b[39;00m \u001b[38;5;21massign_letter\u001b[39m(day):\n\u001b[1;32m----> 2\u001b[0m     \u001b[38;5;28;01mif\u001b[39;00m \u001b[43mday\u001b[49m\u001b[43m \u001b[49m\u001b[38;5;241;43m<\u001b[39;49m\u001b[43m \u001b[49m\u001b[43mdatetime\u001b[49m\u001b[43m(\u001b[49m\u001b[38;5;241;43m2014\u001b[39;49m\u001b[43m,\u001b[49m\u001b[43m \u001b[49m\u001b[38;5;241;43m4\u001b[39;49m\u001b[43m,\u001b[49m\u001b[43m \u001b[49m\u001b[38;5;241;43m5\u001b[39;49m\u001b[43m)\u001b[49m:\n\u001b[0;32m      3\u001b[0m         \u001b[38;5;28;01mreturn\u001b[39;00m \u001b[38;5;124m'\u001b[39m\u001b[38;5;124mA\u001b[39m\u001b[38;5;124m'\u001b[39m\n\u001b[0;32m      4\u001b[0m     \u001b[38;5;28;01melif\u001b[39;00m day \u001b[38;5;241m<\u001b[39m datetime(\u001b[38;5;241m2014\u001b[39m, \u001b[38;5;241m4\u001b[39m, \u001b[38;5;241m10\u001b[39m):\n",
      "\u001b[1;31mTypeError\u001b[0m: '<' not supported between instances of 'int' and 'datetime.datetime'"
     ]
    }
   ],
   "source": [
    "# Ajout de la colonne \"Cat\" avec les lettres attribuées\n",
    "data_01['Cat_Day'] = data_01['Date'].apply(lambda x: assign_letter(x.day))"
   ]
  },
  {
   "cell_type": "code",
   "execution_count": null,
   "metadata": {},
   "outputs": [],
   "source": [
    "# Voir les variables avec des données vident\n",
    "data_01.isnull().sum()"
   ]
  },
  {
   "cell_type": "code",
   "execution_count": null,
   "metadata": {},
   "outputs": [],
   "source": [
    "# Voir le nouveau dataframe \"data_01\"\n",
    "data_01.head()"
   ]
  },
  {
   "cell_type": "code",
   "execution_count": null,
   "metadata": {},
   "outputs": [],
   "source": []
  },
  {
   "cell_type": "code",
   "execution_count": null,
   "metadata": {},
   "outputs": [],
   "source": []
  },
  {
   "cell_type": "code",
   "execution_count": null,
   "metadata": {},
   "outputs": [],
   "source": []
  },
  {
   "cell_type": "code",
   "execution_count": null,
   "metadata": {},
   "outputs": [],
   "source": []
  },
  {
   "cell_type": "code",
   "execution_count": null,
   "metadata": {},
   "outputs": [],
   "source": []
  },
  {
   "cell_type": "code",
   "execution_count": null,
   "metadata": {},
   "outputs": [],
   "source": []
  },
  {
   "cell_type": "code",
   "execution_count": null,
   "metadata": {},
   "outputs": [],
   "source": []
  },
  {
   "cell_type": "code",
   "execution_count": null,
   "metadata": {},
   "outputs": [],
   "source": []
  },
  {
   "cell_type": "code",
   "execution_count": null,
   "metadata": {},
   "outputs": [],
   "source": [
    "# Fonction pour attribuer une lettre en fonction de l'heure\n",
    "def assign_letter(hour):\n",
    "    if hour < 6:\n",
    "        return 'A'\n",
    "    elif hour < 12:\n",
    "        return 'B'\n",
    "    elif hour < 18:\n",
    "        return 'C'\n",
    "    else:\n",
    "        return 'D'"
   ]
  },
  {
   "cell_type": "code",
   "execution_count": null,
   "metadata": {},
   "outputs": [],
   "source": [
    "# Ajout de la colonne \"Cat\" avec les lettres attribuées\n",
    "data_01['Cat'] = data_01['Heure'].apply(lambda x: assign_letter(x.hour))"
   ]
  },
  {
   "cell_type": "code",
   "execution_count": null,
   "metadata": {},
   "outputs": [],
   "source": [
    "# Voir les variables avec des données vident\n",
    "data_01.isnull().sum()"
   ]
  },
  {
   "cell_type": "code",
   "execution_count": null,
   "metadata": {},
   "outputs": [],
   "source": [
    "# Voir le nouveau dataframe \"data_01\"\n",
    "data_01.head()"
   ]
  },
  {
   "cell_type": "code",
   "execution_count": null,
   "metadata": {},
   "outputs": [],
   "source": [
    "# Voir la distribution de la nouvelle colonne \"Cat\"\n",
    "data = data_01['Cat'].value_counts()\n",
    "data"
   ]
  },
  {
   "cell_type": "code",
   "execution_count": null,
   "metadata": {},
   "outputs": [],
   "source": [
    "# Voir la distribution de la nouvelle colonne \"Cat\" en graphique\n",
    "### \"A\" 00H00 / 06H00  -- \"B\" 06H00 / 12H00  -- \"C\" 12H00 / 18H00  -- \"D\" 18H00 / 00H00\n",
    "plt.figure()\n",
    "plt.pie(data.values, labels=data.index,\n",
    "       autopct='%1.1f%%',\n",
    "       shadow=True,\n",
    "       startangle=90,\n",
    "       radius=1.5\n",
    "       )\n",
    "plt.axis('equal')\n",
    "plt.title('Share of time slot (Cat)')\n",
    "plt.legend(bbox_to_anchor=(1.1, 1.05))\n",
    "plt.show()"
   ]
  },
  {
   "cell_type": "code",
   "execution_count": null,
   "metadata": {},
   "outputs": [],
   "source": [
    "# Type des colonnes\n",
    "data_01.info()"
   ]
  },
  {
   "cell_type": "code",
   "execution_count": null,
   "metadata": {},
   "outputs": [],
   "source": [
    "# Convertissez la colonne d'heures en format datetime\n",
    "data_01['Heure'] = pd.to_datetime(data_01['Heure'], format='%H:%M:%S')"
   ]
  },
  {
   "cell_type": "code",
   "execution_count": null,
   "metadata": {},
   "outputs": [],
   "source": [
    "data_01.info()"
   ]
  },
  {
   "cell_type": "code",
   "execution_count": null,
   "metadata": {},
   "outputs": [],
   "source": [
    "## Connaitre le nombre d'id unique (personne) par genre.\n",
    "id_unique = data_01.groupby('Cat').value_counts()\n",
    "id_unique"
   ]
  },
  {
   "cell_type": "code",
   "execution_count": null,
   "metadata": {},
   "outputs": [],
   "source": [
    "# Créer des nouveaux DataFrames pour chaque valeur unique de la colonne \"Cat\"\n",
    "nouveaux_dfs = {}\n",
    "for cat, group in data_01.groupby('Cat'):\n",
    "    nouveaux_dfs[cat] = group.drop(columns='Cat')\n",
    "\n",
    "# Afficher les nouveaux DataFrames\n",
    "for cat, df_cat in nouveaux_dfs.items():\n",
    "    print(f\"DataFrame pour Catégorie '{cat}':\")\n",
    "    print(df_cat)\n",
    "    print()"
   ]
  },
  {
   "cell_type": "code",
   "execution_count": null,
   "metadata": {},
   "outputs": [],
   "source": [
    "# Création de nouveau dataframe par \"Cat\"\n",
    "data_01_A = nouveaux_dfs['A']\n",
    "data_01_B = nouveaux_dfs['B']\n",
    "data_01_C = nouveaux_dfs['C']\n",
    "data_01_D = nouveaux_dfs['D']"
   ]
  },
  {
   "cell_type": "code",
   "execution_count": null,
   "metadata": {},
   "outputs": [],
   "source": [
    "# Visualisation des dataframes\n",
    "print(\"Dataframe data_01_A\")\n",
    "print(data_01_A)\n",
    "\n",
    "\n",
    "print(\"Dataframe data_01_B\")\n",
    "print(data_01_B)\n",
    "\n",
    "\n",
    "print(\"Dataframe data_01_C\")\n",
    "print(data_01_C)\n",
    "\n",
    "\n",
    "print(\"Dataframe data_01_D\")\n",
    "print(data_01_D)"
   ]
  },
  {
   "cell_type": "code",
   "execution_count": null,
   "metadata": {},
   "outputs": [],
   "source": [
    "#### Traitement de la \"Cat\" \"A\" 00H00 / 06H00\n",
    "\n",
    "numeric_features = [0, 1] # Positions des colonnes quantitatives dans X\n",
    "numeric_transformer = StandardScaler()\n",
    "\n",
    "# Création du transformer pour les variables catégorielles\n",
    "categorical_features = [2,3,4] # Positions des colonnes catégorielles dans X\n",
    "categorical_transformer = OneHotEncoder(drop='first')\n",
    "\n",
    "# On combine les transformers dans un ColumnTransformer\n",
    "preprocessor = ColumnTransformer(\n",
    "    transformers=[\n",
    "        ('num', numeric_transformer, numeric_features),\n",
    "        ('cat', categorical_transformer, categorical_features)\n",
    "    ])\n",
    "\n",
    "# Preprocessings sur le dataset\n",
    "print(\"Preprocessing sur le train set...\")\n",
    "print(data_01_A.head())\n",
    "X_A = preprocessor.fit_transform(data_01_A) # fit_transform !!\n",
    "print('...Terminé.')\n",
    "print(X_A[0:5, :])\n",
    "print()"
   ]
  },
  {
   "cell_type": "code",
   "execution_count": null,
   "metadata": {},
   "outputs": [],
   "source": [
    "# Utilisation de la méthode Elbow pour trouver le nombre optimal de clusters\n",
    "\n",
    "wcss_A =  []\n",
    "for i in range (2,11): \n",
    "    kmeans = KMeans(n_clusters= i, n_init = \"auto\")\n",
    "    kmeans.fit(X_A)\n",
    "    wcss_A.append(kmeans.inertia_)\n",
    "    \n",
    "print(wcss_A)"
   ]
  },
  {
   "cell_type": "code",
   "execution_count": null,
   "metadata": {},
   "outputs": [],
   "source": [
    "fig = px.line(x = range(2,11), y = wcss_A)\n",
    "fig.show()"
   ]
  },
  {
   "cell_type": "code",
   "execution_count": null,
   "metadata": {},
   "outputs": [],
   "source": [
    "# Utilisation du silhouette_score pour déterminer le nombre optimal de clusters\n",
    "s_score_A = []\n",
    "for i in range (2,11): \n",
    "    kmeans = KMeans(n_clusters= i, n_init = \"auto\")\n",
    "    kmeans.fit(X_A)\n",
    "    s_score_A.append(silhouette_score(X_A, kmeans.predict(X_A)))\n",
    "\n",
    "print(s_score_A)"
   ]
  },
  {
   "cell_type": "code",
   "execution_count": null,
   "metadata": {},
   "outputs": [],
   "source": [
    "# Affichage de scores en fonction du nombre de clusters\n",
    "fig = px.bar(x = range(2,11), y = s_score_A)\n",
    "fig.show()"
   ]
  },
  {
   "cell_type": "code",
   "execution_count": null,
   "metadata": {},
   "outputs": [],
   "source": [
    "# On ré-entraîne un KMeans avec le nombre optimal de clusters\n",
    "kmeans = KMeans(n_clusters= 3, n_init = \"auto\")\n",
    "kmeans.fit(X_A)"
   ]
  },
  {
   "cell_type": "code",
   "execution_count": null,
   "metadata": {},
   "outputs": [],
   "source": [
    "data_01_A.loc[:,'Cluster_KMeans'] = kmeans.predict(X_A)\n",
    "data_01_A.head()"
   ]
  },
  {
   "cell_type": "code",
   "execution_count": null,
   "metadata": {},
   "outputs": [],
   "source": [
    "# On utilise scatter_mapbox pour visualiser notre graphique\n",
    "fig = px.scatter_mapbox(data_frame=data_01_A, lat='Lat', lon='Lon', color='Cluster_KMeans', mapbox_style=\"carto-positron\")\n",
    "fig.show()"
   ]
  },
  {
   "cell_type": "code",
   "execution_count": null,
   "metadata": {},
   "outputs": [],
   "source": []
  },
  {
   "cell_type": "code",
   "execution_count": null,
   "metadata": {},
   "outputs": [],
   "source": []
  },
  {
   "cell_type": "code",
   "execution_count": null,
   "metadata": {},
   "outputs": [],
   "source": []
  },
  {
   "cell_type": "code",
   "execution_count": null,
   "metadata": {},
   "outputs": [],
   "source": []
  },
  {
   "cell_type": "code",
   "execution_count": null,
   "metadata": {},
   "outputs": [],
   "source": [
    "#### uber-raw-data-may14\n",
    "data_02 = pd.read_csv(\"uber-raw-data-may14.csv\")\n",
    "data_02.head()"
   ]
  },
  {
   "cell_type": "code",
   "execution_count": null,
   "metadata": {},
   "outputs": [],
   "source": [
    "# Convertir la chaîne de caractères en objet datetime\n",
    "data_02['Date/Time'] = pd.to_datetime(data_02['Date/Time'])\n",
    "# Extraire l'année, le mois, le jour et le jour de la semaine\n",
    "data_02['date'] = data_02['Date/Time'].dt.date\n",
    "data_02['heure'] = data_02['Date/Time'].dt.time"
   ]
  },
  {
   "cell_type": "code",
   "execution_count": null,
   "metadata": {},
   "outputs": [],
   "source": [
    "# Extraire l'année, le mois, le jour et le jour de la semaine\n",
    "data_02['date'] = data_02['Date/Time'].dt.date\n",
    "data_02['heure'] = data_02['Date/Time'].dt.time"
   ]
  },
  {
   "cell_type": "code",
   "execution_count": null,
   "metadata": {},
   "outputs": [],
   "source": [
    "# Drop la colonne Date\n",
    "data_02 = data_02.drop(columns = ['Date/Time'])\n",
    "data_02.head()"
   ]
  },
  {
   "cell_type": "code",
   "execution_count": null,
   "metadata": {},
   "outputs": [],
   "source": [
    "#### uber-raw-data-jun14\n",
    "data_03 = pd.read_csv(\"uber-raw-data-jun14.csv\")\n",
    "data_03.head()"
   ]
  },
  {
   "cell_type": "code",
   "execution_count": null,
   "metadata": {},
   "outputs": [],
   "source": [
    "# Convertir la chaîne de caractères en objet datetime\n",
    "data_03['Date/Time'] = pd.to_datetime(data_03['Date/Time'])\n",
    "# Extraire l'année, le mois, le jour et le jour de la semaine\n",
    "data_03['date'] = data_03['Date/Time'].dt.date\n",
    "data_03['heure'] = data_03['Date/Time'].dt.time"
   ]
  },
  {
   "cell_type": "code",
   "execution_count": null,
   "metadata": {},
   "outputs": [],
   "source": [
    "# Extraire l'année, le mois, le jour et le jour de la semaine\n",
    "data_03['date'] = data_03['Date/Time'].dt.date\n",
    "data_03['heure'] = data_03['Date/Time'].dt.time"
   ]
  },
  {
   "cell_type": "code",
   "execution_count": null,
   "metadata": {},
   "outputs": [],
   "source": [
    "# Drop la colonne Date\n",
    "data_03 = data_03.drop(columns = ['Date/Time'])\n",
    "data_03.head()"
   ]
  },
  {
   "cell_type": "code",
   "execution_count": null,
   "metadata": {},
   "outputs": [],
   "source": [
    "#### uber-raw-data-jul14\n",
    "data_04 = pd.read_csv(\"uber-raw-data-jul14.csv\")\n",
    "data_04.head()"
   ]
  },
  {
   "cell_type": "code",
   "execution_count": null,
   "metadata": {},
   "outputs": [],
   "source": [
    "# Convertir la chaîne de caractères en objet datetime\n",
    "data_04['Date/Time'] = pd.to_datetime(data_04['Date/Time'])\n",
    "# Extraire l'année, le mois, le jour et le jour de la semaine\n",
    "data_04['date'] = data_04['Date/Time'].dt.date\n",
    "data_04['heure'] = data_04['Date/Time'].dt.time"
   ]
  },
  {
   "cell_type": "code",
   "execution_count": null,
   "metadata": {},
   "outputs": [],
   "source": [
    "# Extraire l'année, le mois, le jour et le jour de la semaine\n",
    "data_04['date'] = data_04['Date/Time'].dt.date\n",
    "data_04['heure'] = data_04['Date/Time'].dt.time"
   ]
  },
  {
   "cell_type": "code",
   "execution_count": null,
   "metadata": {},
   "outputs": [],
   "source": [
    "# Drop la colonne Date\n",
    "data_04 = data_04.drop(columns = ['Date/Time'])\n",
    "data_04.head()"
   ]
  },
  {
   "cell_type": "code",
   "execution_count": null,
   "metadata": {},
   "outputs": [],
   "source": [
    "#### uber-raw-data-jul14\n",
    "data_05 = pd.read_csv(\"uber-raw-data-aug14.csv\")\n",
    "data_05.head()"
   ]
  },
  {
   "cell_type": "code",
   "execution_count": null,
   "metadata": {},
   "outputs": [],
   "source": [
    "# Convertir la chaîne de caractères en objet datetime\n",
    "data_05['Date/Time'] = pd.to_datetime(data_05['Date/Time'])\n",
    "# Extraire l'année, le mois, le jour et le jour de la semaine\n",
    "data_05['date'] = data_05['Date/Time'].dt.date\n",
    "data_05['heure'] = data_05['Date/Time'].dt.time"
   ]
  },
  {
   "cell_type": "code",
   "execution_count": null,
   "metadata": {},
   "outputs": [],
   "source": [
    "# Extraire l'année, le mois, le jour et le jour de la semaine\n",
    "data_05['date'] = data_05['Date/Time'].dt.date\n",
    "data_05['heure'] = data_05['Date/Time'].dt.time"
   ]
  },
  {
   "cell_type": "code",
   "execution_count": null,
   "metadata": {},
   "outputs": [],
   "source": [
    "# Drop la colonne Date\n",
    "data_05 = data_05.drop(columns = ['Date/Time'])\n",
    "data_05.head()"
   ]
  },
  {
   "cell_type": "code",
   "execution_count": null,
   "metadata": {},
   "outputs": [],
   "source": [
    "#### uber-raw-data-sep14\n",
    "data_06 = pd.read_csv(\"uber-raw-data-sep14.csv\")\n",
    "data_06.head()"
   ]
  },
  {
   "cell_type": "code",
   "execution_count": null,
   "metadata": {},
   "outputs": [],
   "source": [
    "# Convertir la chaîne de caractères en objet datetime\n",
    "data_06['Date/Time'] = pd.to_datetime(data_06['Date/Time'])\n",
    "# Extraire l'année, le mois, le jour et le jour de la semaine\n",
    "data_06['date'] = data_06['Date/Time'].dt.date\n",
    "data_06['heure'] = data_06['Date/Time'].dt.time"
   ]
  },
  {
   "cell_type": "code",
   "execution_count": null,
   "metadata": {},
   "outputs": [],
   "source": [
    "# Extraire l'année, le mois, le jour et le jour de la semaine\n",
    "data_06['date'] = data_06['Date/Time'].dt.date\n",
    "data_06['heure'] = data_06['Date/Time'].dt.time"
   ]
  },
  {
   "cell_type": "code",
   "execution_count": null,
   "metadata": {},
   "outputs": [],
   "source": [
    "# Drop la colonne Date\n",
    "data_06 = data_06.drop(columns = ['Date/Time'])\n",
    "data_06.head()"
   ]
  },
  {
   "cell_type": "code",
   "execution_count": null,
   "metadata": {},
   "outputs": [],
   "source": [
    "#### uber-raw-data-janjune-15\n",
    "data_07 = pd.read_csv(\"uber-raw-data-janjune-15.csv\")\n",
    "data_07.head()"
   ]
  },
  {
   "cell_type": "code",
   "execution_count": null,
   "metadata": {},
   "outputs": [],
   "source": [
    "# Convertir la chaîne de caractères en objet datetime\n",
    "data_07['Pickup_date'] = pd.to_datetime(data_07['Pickup_date'])\n",
    "# Extraire l'année, le mois, le jour et le jour de la semaine\n",
    "data_07['date'] = data_07['Pickup_date'].dt.date\n",
    "data_07['heure'] = data_07['Pickup_date'].dt.time"
   ]
  },
  {
   "cell_type": "code",
   "execution_count": null,
   "metadata": {},
   "outputs": [],
   "source": [
    "# Extraire l'année, le mois, le jour et le jour de la semaine\n",
    "data_07['date'] = data_07['Pickup_date'].dt.date\n",
    "data_07['heure'] = data_07['Pickup_date'].dt.time"
   ]
  },
  {
   "cell_type": "code",
   "execution_count": null,
   "metadata": {},
   "outputs": [],
   "source": [
    "# Drop la colonne Date\n",
    "data_07 = data_07.drop(columns = ['Pickup_date'])\n",
    "data_07.head()"
   ]
  }
 ],
 "metadata": {
  "kernelspec": {
   "display_name": "base",
   "language": "python",
   "name": "python3"
  },
  "language_info": {
   "codemirror_mode": {
    "name": "ipython",
    "version": 3
   },
   "file_extension": ".py",
   "mimetype": "text/x-python",
   "name": "python",
   "nbconvert_exporter": "python",
   "pygments_lexer": "ipython3",
   "version": "3.8.5"
  }
 },
 "nbformat": 4,
 "nbformat_minor": 2
}
